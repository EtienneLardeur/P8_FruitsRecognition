{
 "cells": [
  {
   "cell_type": "markdown",
   "metadata": {
    "toc": true
   },
   "source": [
    "<h1>Table of Contents<span class=\"tocSkip\"></span></h1>\n",
    "<div class=\"toc\"><ul class=\"toc-item\"><li><span><a href=\"#Introduction\" data-toc-modified-id=\"Introduction-1\">Introduction</a></span><ul class=\"toc-item\"><li><ul class=\"toc-item\"><li><ul class=\"toc-item\"><li><span><a href=\"#time-monitoring\" data-toc-modified-id=\"time-monitoring-1.0.0.1\">time monitoring</a></span></li></ul></li></ul></li></ul></li><li><span><a href=\"#Spark-session\" data-toc-modified-id=\"Spark-session-2\">Spark session</a></span></li><li><span><a href=\"#Load-data\" data-toc-modified-id=\"Load-data-3\">Load data</a></span><ul class=\"toc-item\"><li><ul class=\"toc-item\"><li><ul class=\"toc-item\"><li><span><a href=\"#Explore-through-Spark-Dataframe-with-'image'-format\" data-toc-modified-id=\"Explore-through-Spark-Dataframe-with-'image'-format-3.0.0.1\">Explore through Spark Dataframe with 'image' format</a></span></li><li><span><a href=\"#We'll-keep-origin-to-get-path-and-extract-label\" data-toc-modified-id=\"We'll-keep-origin-to-get-path-and-extract-label-3.0.0.2\">We'll keep origin to get path and extract label</a></span></li><li><span><a href=\"#Alternate-way-to-deal-with-image\" data-toc-modified-id=\"Alternate-way-to-deal-with-image-3.0.0.3\">Alternate way to deal with image</a></span></li></ul></li></ul></li></ul></li><li><span><a href=\"#Use-of-a-CNN-as-feature-extractor\" data-toc-modified-id=\"Use-of-a-CNN-as-feature-extractor-4\">Use of a CNN as feature extractor</a></span></li><li><span><a href=\"#Featurizer\" data-toc-modified-id=\"Featurizer-5\">Featurizer</a></span><ul class=\"toc-item\"><li><ul class=\"toc-item\"><li><ul class=\"toc-item\"><li><span><a href=\"#Define-image-loading-and-featurization-logic-in-a-Pandas-UDF\" data-toc-modified-id=\"Define-image-loading-and-featurization-logic-in-a-Pandas-UDF-5.0.0.1\">Define image loading and featurization logic in a Pandas UDF</a></span></li></ul></li></ul></li></ul></li><li><span><a href=\"#Reducer\" data-toc-modified-id=\"Reducer-6\">Reducer</a></span><ul class=\"toc-item\"><li><ul class=\"toc-item\"><li><ul class=\"toc-item\"><li><span><a href=\"#Transform-from-Arrays-into-Vectors-to-perform-reduction\" data-toc-modified-id=\"Transform-from-Arrays-into-Vectors-to-perform-reduction-6.0.0.1\">Transform from Arrays into Vectors to perform reduction</a></span></li><li><span><a href=\"#Initialize-&amp;-Apply-PCA\" data-toc-modified-id=\"Initialize-&amp;-Apply-PCA-6.0.0.2\">Initialize &amp; Apply PCA</a></span></li><li><span><a href=\"#Inverse-transform:-from-Vectors-to-Array---i.e.-Pandas-readability\" data-toc-modified-id=\"Inverse-transform:-from-Vectors-to-Array---i.e.-Pandas-readability-6.0.0.3\">Inverse transform: from Vectors to Array - i.e. Pandas readability</a></span></li></ul></li></ul></li></ul></li><li><span><a href=\"#Results-storage\" data-toc-modified-id=\"Results-storage-7\">Results storage</a></span><ul class=\"toc-item\"><li><ul class=\"toc-item\"><li><ul class=\"toc-item\"><li><span><a href=\"#Write-action,-could-be-the-only-action-that-trigger-the-entire-featurizer---reducer-process\" data-toc-modified-id=\"Write-action,-could-be-the-only-action-that-trigger-the-entire-featurizer---reducer-process-7.0.0.1\">Write action, could be the only action that trigger the entire featurizer - reducer process</a></span></li></ul></li></ul></li></ul></li></ul></div>"
   ]
  },
  {
   "cell_type": "markdown",
   "metadata": {},
   "source": [
    "# Introduction"
   ]
  },
  {
   "cell_type": "markdown",
   "metadata": {},
   "source": [
    "In this notebook, we handle through pySpark, sql & ml, the featurization and the dimension reduction of an image collection.<br/>\n",
    "Aim is to build a scalable architecture to perform expected transformations, and enable upcoming fast growth of the image collection keeping a viable computationnal time."
   ]
  },
  {
   "cell_type": "code",
   "execution_count": 1,
   "metadata": {},
   "outputs": [
    {
     "data": {
      "text/plain": [
       "'3.0.1'"
      ]
     },
     "execution_count": 1,
     "metadata": {},
     "output_type": "execute_result"
    }
   ],
   "source": [
    "# spark\n",
    "import findspark\n",
    "findspark.init()\n",
    "import pyspark\n",
    "pyspark.__version__"
   ]
  },
  {
   "cell_type": "code",
   "execution_count": 2,
   "metadata": {},
   "outputs": [],
   "source": [
    "# context & session\n",
    "from pyspark import SparkContext\n",
    "from pyspark import SparkConf\n",
    "from pyspark.sql import SparkSession"
   ]
  },
  {
   "cell_type": "code",
   "execution_count": 3,
   "metadata": {},
   "outputs": [
    {
     "data": {
      "text/plain": [
       "'2.0.0'"
      ]
     },
     "execution_count": 3,
     "metadata": {},
     "output_type": "execute_result"
    }
   ],
   "source": [
    "import pyarrow\n",
    "pyarrow.__version__"
   ]
  },
  {
   "cell_type": "code",
   "execution_count": 4,
   "metadata": {},
   "outputs": [],
   "source": [
    "# usefull packages\n",
    "import pandas as pd\n",
    "import numpy as np\n",
    "import time\n",
    "import os\n",
    "# deal with image\n",
    "from PIL import Image"
   ]
  },
  {
   "cell_type": "code",
   "execution_count": 5,
   "metadata": {},
   "outputs": [],
   "source": [
    "# data handling\n",
    "from pyspark.sql.functions import element_at, split\n",
    "from pyspark.sql.functions import pandas_udf, PandasUDFType\n",
    "# from pyspark.sql.functions import col\n",
    "from pyspark.sql.functions import udf\n",
    "from pyspark.sql.types import *\n",
    "from typing import Iterator"
   ]
  },
  {
   "cell_type": "code",
   "execution_count": 6,
   "metadata": {},
   "outputs": [],
   "source": [
    "# ml tasks\n",
    "from pyspark.ml.image import ImageSchema\n",
    "from pyspark.ml.feature import VectorAssembler\n",
    "from pyspark.ml.feature import PCA"
   ]
  },
  {
   "cell_type": "code",
   "execution_count": 7,
   "metadata": {},
   "outputs": [],
   "source": [
    "# transform\n",
    "from pyspark.ml.linalg import Vectors, VectorUDT"
   ]
  },
  {
   "cell_type": "code",
   "execution_count": 8,
   "metadata": {},
   "outputs": [
    {
     "data": {
      "text/plain": [
       "'2.4.0'"
      ]
     },
     "execution_count": 8,
     "metadata": {},
     "output_type": "execute_result"
    }
   ],
   "source": [
    "# core featurizer\n",
    "import tensorflow as tf\n",
    "from tensorflow.keras.applications.vgg16 import VGG16, preprocess_input\n",
    "from tensorflow.keras.preprocessing.image import img_to_array, load_img\n",
    "tf.__version__"
   ]
  },
  {
   "cell_type": "markdown",
   "metadata": {},
   "source": [
    "#### time monitoring"
   ]
  },
  {
   "cell_type": "code",
   "execution_count": 9,
   "metadata": {},
   "outputs": [
    {
     "name": "stdout",
     "output_type": "stream",
     "text": [
      "process, elapsed time: 0.00s\n"
     ]
    }
   ],
   "source": [
    "start = time.perf_counter()\n",
    "stop = time.perf_counter()\n",
    "print(f'process, elapsed time: {stop - start:0.2f}s')"
   ]
  },
  {
   "cell_type": "markdown",
   "metadata": {},
   "source": [
    "# Spark session"
   ]
  },
  {
   "cell_type": "code",
   "execution_count": 10,
   "metadata": {},
   "outputs": [],
   "source": [
    "# Initiate a Spark session\n",
    "spark = SparkSession.builder.master('local[*]').appName('P8').getOrCreate()"
   ]
  },
  {
   "cell_type": "code",
   "execution_count": 11,
   "metadata": {},
   "outputs": [],
   "source": [
    "# check wether arrow should be enabled by this setting\n",
    "spark.conf.set(\"spark.sql.execution.arrow.pyspark.enabled\", \"true\")"
   ]
  },
  {
   "cell_type": "code",
   "execution_count": 12,
   "metadata": {},
   "outputs": [
    {
     "data": {
      "text/html": [
       "\n",
       "            <div>\n",
       "                <p><b>SparkSession - in-memory</b></p>\n",
       "                \n",
       "        <div>\n",
       "            <p><b>SparkContext</b></p>\n",
       "\n",
       "            <p><a href=\"http://desktop-gp5v58f.home:4040\">Spark UI</a></p>\n",
       "\n",
       "            <dl>\n",
       "              <dt>Version</dt>\n",
       "                <dd><code>v3.0.1</code></dd>\n",
       "              <dt>Master</dt>\n",
       "                <dd><code>local[*]</code></dd>\n",
       "              <dt>AppName</dt>\n",
       "                <dd><code>P8</code></dd>\n",
       "            </dl>\n",
       "        </div>\n",
       "        \n",
       "            </div>\n",
       "        "
      ],
      "text/plain": [
       "<pyspark.sql.session.SparkSession at 0x7f801c2c0dc0>"
      ]
     },
     "execution_count": 12,
     "metadata": {},
     "output_type": "execute_result"
    }
   ],
   "source": [
    "# open spark UI for app monitoring\n",
    "spark"
   ]
  },
  {
   "cell_type": "markdown",
   "metadata": {},
   "source": [
    "# Load data"
   ]
  },
  {
   "cell_type": "markdown",
   "metadata": {},
   "source": [
    "#### Explore through Spark Dataframe with 'image' format"
   ]
  },
  {
   "cell_type": "code",
   "execution_count": 13,
   "metadata": {},
   "outputs": [],
   "source": [
    "# define work_path\n",
    "work_path = '/mnt/c/users/etien/datascience/p8/inputs/applesample/**'"
   ]
  },
  {
   "cell_type": "code",
   "execution_count": 14,
   "metadata": {},
   "outputs": [
    {
     "name": "stdout",
     "output_type": "stream",
     "text": [
      "data load with spark.read, elapsed time: 5.27s\n"
     ]
    }
   ],
   "source": [
    "# function to load data into into a spark_df\n",
    "# with spaces of folder's name removed first, inferschema optional here\n",
    "start = time.perf_counter()\n",
    "df_img = spark.read.format('image').load(work_path, inferschema=True) \n",
    "stop = time.perf_counter()\n",
    "print(f'data load with spark.read, elapsed time: {stop - start:0.2f}s')"
   ]
  },
  {
   "cell_type": "code",
   "execution_count": 15,
   "metadata": {},
   "outputs": [
    {
     "data": {
      "text/plain": [
       "2134"
      ]
     },
     "execution_count": 15,
     "metadata": {},
     "output_type": "execute_result"
    }
   ],
   "source": [
    "# number of images in this sample\n",
    "df_img.count()"
   ]
  },
  {
   "cell_type": "code",
   "execution_count": 16,
   "metadata": {},
   "outputs": [
    {
     "name": "stdout",
     "output_type": "stream",
     "text": [
      "+--------------------+\n",
      "|               image|\n",
      "+--------------------+\n",
      "|[file:///mnt/c/us...|\n",
      "|[file:///mnt/c/us...|\n",
      "|[file:///mnt/c/us...|\n",
      "|[file:///mnt/c/us...|\n",
      "|[file:///mnt/c/us...|\n",
      "|[file:///mnt/c/us...|\n",
      "|[file:///mnt/c/us...|\n",
      "|[file:///mnt/c/us...|\n",
      "|[file:///mnt/c/us...|\n",
      "|[file:///mnt/c/us...|\n",
      "|[file:///mnt/c/us...|\n",
      "|[file:///mnt/c/us...|\n",
      "|[file:///mnt/c/us...|\n",
      "|[file:///mnt/c/us...|\n",
      "|[file:///mnt/c/us...|\n",
      "|[file:///mnt/c/us...|\n",
      "|[file:///mnt/c/us...|\n",
      "|[file:///mnt/c/us...|\n",
      "|[file:///mnt/c/us...|\n",
      "|[file:///mnt/c/us...|\n",
      "+--------------------+\n",
      "only showing top 20 rows\n",
      "\n",
      "data load with spark.read, elapsed time: 1.26s\n"
     ]
    }
   ],
   "source": [
    "start = time.perf_counter()\n",
    "df_img.show(20)\n",
    "stop = time.perf_counter()\n",
    "print(f'data load with spark.read, elapsed time: {stop - start:0.2f}s')"
   ]
  },
  {
   "cell_type": "code",
   "execution_count": 17,
   "metadata": {},
   "outputs": [
    {
     "name": "stdout",
     "output_type": "stream",
     "text": [
      "root\n",
      " |-- image: struct (nullable = true)\n",
      " |    |-- origin: string (nullable = true)\n",
      " |    |-- height: integer (nullable = true)\n",
      " |    |-- width: integer (nullable = true)\n",
      " |    |-- nChannels: integer (nullable = true)\n",
      " |    |-- mode: integer (nullable = true)\n",
      " |    |-- data: binary (nullable = true)\n",
      "\n"
     ]
    }
   ],
   "source": [
    "# display DataFrame schema \n",
    "df_img.printSchema()"
   ]
  },
  {
   "cell_type": "code",
   "execution_count": 18,
   "metadata": {},
   "outputs": [
    {
     "name": "stdout",
     "output_type": "stream",
     "text": [
      "-RECORD 0----------------------------------------------------------------------------------------\n",
      " origin | file:///mnt/c/users/etien/datascience/p8/inputs/applesample/Apple_Golden_1/114_100.jpg \n",
      "only showing top 1 row\n",
      "\n"
     ]
    }
   ],
   "source": [
    "# origin detail\n",
    "df_img.select('image.origin').show(1, False, True)"
   ]
  },
  {
   "cell_type": "markdown",
   "metadata": {},
   "source": [
    "#### We'll keep origin to get path and extract label"
   ]
  },
  {
   "cell_type": "code",
   "execution_count": 19,
   "metadata": {},
   "outputs": [],
   "source": [
    "# extract label from image.origin\n",
    "df_img = df_img.withColumn('label', element_at(split(df_img['image.origin'], \"/\"), -2))"
   ]
  },
  {
   "cell_type": "code",
   "execution_count": 20,
   "metadata": {
    "scrolled": true
   },
   "outputs": [
    {
     "name": "stdout",
     "output_type": "stream",
     "text": [
      "+--------------------+------+-----+---------+----+--------------------+--------------+\n",
      "|              origin|height|width|nChannels|mode|                data|         label|\n",
      "+--------------------+------+-----+---------+----+--------------------+--------------+\n",
      "|file:///mnt/c/use...|   100|  100|        3|  16|[FF FF FF FF FF F...|Apple_Golden_1|\n",
      "+--------------------+------+-----+---------+----+--------------------+--------------+\n",
      "only showing top 1 row\n",
      "\n"
     ]
    }
   ],
   "source": [
    "# show first 3 rows with image struct detailed\n",
    "df_img.select(\n",
    "    'image.origin',\n",
    "    'image.height',\n",
    "    'image.width',\n",
    "    'image.nChannels',\n",
    "    'image.mode',\n",
    "    'image.data',\n",
    "    'label'\n",
    "    ).show(1, True)"
   ]
  },
  {
   "cell_type": "markdown",
   "metadata": {},
   "source": [
    "#### Alternate way to deal with image"
   ]
  },
  {
   "cell_type": "code",
   "execution_count": 21,
   "metadata": {},
   "outputs": [],
   "source": [
    "# use embedded transformer from the binary type to Array, switching to RGB mode\n",
    "ImageArray_first = ImageSchema.toNDArray(df_img.first()['image'])[:, :, ::-1]"
   ]
  },
  {
   "cell_type": "code",
   "execution_count": 22,
   "metadata": {},
   "outputs": [
    {
     "data": {
      "image/png": "[encoded data removed]",
      "text/plain": [
       "<PIL.Image.Image image mode=RGB size=100x100 at 0x7F801C2DE460>"
      ]
     },
     "execution_count": 22,
     "metadata": {},
     "output_type": "execute_result"
    }
   ],
   "source": [
    "Image.fromarray(ImageArray_first)"
   ]
  },
  {
   "cell_type": "code",
   "execution_count": 23,
   "metadata": {},
   "outputs": [],
   "source": [
    "# back to the root RDD format to deal with iamges through image structure \n",
    "def StructToList(row):\n",
    "    rowDict = row.asDict()\n",
    "    FlatArray = ImageSchema.toNDArray(rowDict.get('image'))[:, :, ::-1].ravel().tolist()\n",
    "    rowDict['FlatArray'] = FlatArray\n",
    "    return rowDict"
   ]
  },
  {
   "cell_type": "code",
   "execution_count": 24,
   "metadata": {},
   "outputs": [],
   "source": [
    "# apply function to rdd\n",
    "df_imgRDD = df_img.rdd.map(StructToList)"
   ]
  },
  {
   "cell_type": "code",
   "execution_count": 25,
   "metadata": {},
   "outputs": [],
   "source": [
    "# update schema\n",
    "inputSchema = df_img.schema\n",
    "newSchema = inputSchema.add('FlatArray', ArrayType(IntegerType()))"
   ]
  },
  {
   "cell_type": "code",
   "execution_count": 26,
   "metadata": {},
   "outputs": [],
   "source": [
    "# transform back into spark DataFrame\n",
    "df_imgUpdated = spark.createDataFrame(df_imgRDD, newSchema)"
   ]
  },
  {
   "cell_type": "code",
   "execution_count": 27,
   "metadata": {},
   "outputs": [
    {
     "name": "stdout",
     "output_type": "stream",
     "text": [
      "+--------------------+--------------+--------------------+\n",
      "|               image|         label|           FlatArray|\n",
      "+--------------------+--------------+--------------------+\n",
      "|[file:///mnt/c/us...|Apple_Golden_1|[255, 255, 255, 2...|\n",
      "|[file:///mnt/c/us...|Apple_Golden_1|[255, 255, 255, 2...|\n",
      "|[file:///mnt/c/us...|Apple_Golden_1|[255, 255, 255, 2...|\n",
      "|[file:///mnt/c/us...|Apple_Golden_1|[255, 255, 255, 2...|\n",
      "|[file:///mnt/c/us...|Apple_Golden_1|[255, 255, 255, 2...|\n",
      "+--------------------+--------------+--------------------+\n",
      "only showing top 5 rows\n",
      "\n"
     ]
    }
   ],
   "source": [
    "df_imgUpdated.show(5)"
   ]
  },
  {
   "cell_type": "code",
   "execution_count": 28,
   "metadata": {},
   "outputs": [
    {
     "data": {
      "image/png": "[encoded data removed]",
      "text/plain": [
       "<PIL.Image.Image image mode=RGB size=100x100 at 0x7F802676D610>"
      ]
     },
     "execution_count": 28,
     "metadata": {},
     "output_type": "execute_result"
    }
   ],
   "source": [
    "# get back to the image \n",
    "New_ImageArray_first = np.array(df_imgUpdated.first()['FlatArray']).reshape(100, 100, 3).astype(np.uint8)\n",
    "Image.fromarray(New_ImageArray_first)"
   ]
  },
  {
   "cell_type": "markdown",
   "metadata": {},
   "source": [
    "# Use of a CNN as feature extractor"
   ]
  },
  {
   "cell_type": "code",
   "execution_count": 29,
   "metadata": {},
   "outputs": [],
   "source": [
    "# model for featurization, last layers truncated.\n",
    "# nb. spark workers need to access the model and its weights\n",
    "conv_base = VGG16(\n",
    "    include_top=False,\n",
    "    weights=None,\n",
    "    pooling='max',\n",
    "    input_shape=(100, 100, 3))"
   ]
  },
  {
   "cell_type": "code",
   "execution_count": 30,
   "metadata": {
    "scrolled": true
   },
   "outputs": [
    {
     "name": "stdout",
     "output_type": "stream",
     "text": [
      "Model: \"vgg16\"\n",
      "_________________________________________________________________\n",
      "Layer (type)                 Output Shape              Param #   \n",
      "=================================================================\n",
      "input_1 (InputLayer)         [(None, 100, 100, 3)]     0         \n",
      "_________________________________________________________________\n",
      "block1_conv1 (Conv2D)        (None, 100, 100, 64)      1792      \n",
      "_________________________________________________________________\n",
      "block1_conv2 (Conv2D)        (None, 100, 100, 64)      36928     \n",
      "_________________________________________________________________\n",
      "block1_pool (MaxPooling2D)   (None, 50, 50, 64)        0         \n",
      "_________________________________________________________________\n",
      "block2_conv1 (Conv2D)        (None, 50, 50, 128)       73856     \n",
      "_________________________________________________________________\n",
      "block2_conv2 (Conv2D)        (None, 50, 50, 128)       147584    \n",
      "_________________________________________________________________\n",
      "block2_pool (MaxPooling2D)   (None, 25, 25, 128)       0         \n",
      "_________________________________________________________________\n",
      "block3_conv1 (Conv2D)        (None, 25, 25, 256)       295168    \n",
      "_________________________________________________________________\n",
      "block3_conv2 (Conv2D)        (None, 25, 25, 256)       590080    \n",
      "_________________________________________________________________\n",
      "block3_conv3 (Conv2D)        (None, 25, 25, 256)       590080    \n",
      "_________________________________________________________________\n",
      "block3_pool (MaxPooling2D)   (None, 12, 12, 256)       0         \n",
      "_________________________________________________________________\n",
      "block4_conv1 (Conv2D)        (None, 12, 12, 512)       1180160   \n",
      "_________________________________________________________________\n",
      "block4_conv2 (Conv2D)        (None, 12, 12, 512)       2359808   \n",
      "_________________________________________________________________\n",
      "block4_conv3 (Conv2D)        (None, 12, 12, 512)       2359808   \n",
      "_________________________________________________________________\n",
      "block4_pool (MaxPooling2D)   (None, 6, 6, 512)         0         \n",
      "_________________________________________________________________\n",
      "block5_conv1 (Conv2D)        (None, 6, 6, 512)         2359808   \n",
      "_________________________________________________________________\n",
      "block5_conv2 (Conv2D)        (None, 6, 6, 512)         2359808   \n",
      "_________________________________________________________________\n",
      "block5_conv3 (Conv2D)        (None, 6, 6, 512)         2359808   \n",
      "_________________________________________________________________\n",
      "block5_pool (MaxPooling2D)   (None, 3, 3, 512)         0         \n",
      "_________________________________________________________________\n",
      "global_max_pooling2d (Global (None, 512)               0         \n",
      "=================================================================\n",
      "Total params: 14,714,688\n",
      "Trainable params: 14,714,688\n",
      "Non-trainable params: 0\n",
      "_________________________________________________________________\n"
     ]
    }
   ],
   "source": [
    "# verify that the top layer is removed\n",
    "conv_base.summary()"
   ]
  },
  {
   "cell_type": "code",
   "execution_count": 31,
   "metadata": {},
   "outputs": [],
   "source": [
    "# get weights as broadcasted variable over nodes (provide a copy to each node)\n",
    "conv_base_weights = spark.sparkContext.broadcast(conv_base.get_weights())"
   ]
  },
  {
   "cell_type": "code",
   "execution_count": 32,
   "metadata": {},
   "outputs": [],
   "source": [
    "# set weights\n",
    "# conv_base.set_weights(conv_base_weights.value)"
   ]
  },
  {
   "cell_type": "code",
   "execution_count": 33,
   "metadata": {},
   "outputs": [],
   "source": [
    "# make conv_base callable\n",
    "def conv_base_init():\n",
    "    # returns a VGG 16 model with top layer removed and broadcasted weights\n",
    "    conv_base = VGG16(\n",
    "        include_top=False,\n",
    "        weights=None,\n",
    "        pooling='max',\n",
    "        input_shape=(100, 100, 3))\n",
    "    # error if sparkcontext as it will be called on workers and not only drivers\n",
    "    # conv_base_weights = sc.broadcast(conv_base.get_weights())\n",
    "    conv_base.set_weights(conv_base_weights.value)\n",
    "    return conv_base"
   ]
  },
  {
   "cell_type": "markdown",
   "metadata": {},
   "source": [
    "# Featurizer"
   ]
  },
  {
   "cell_type": "markdown",
   "metadata": {},
   "source": [
    "#### Define image loading and featurization logic in a Pandas UDF\n",
    "This notebook defines the logic in steps, building up to the Pandas UDF. \n",
    "The call stack is:\n",
    "- pandas UDF\n",
    "    - featurize a pd.Series of images\n",
    "        - preprocess one image\n",
    "        \n",
    "This notebook uses the newer Scalar Iterator pandas UDF to amortize the cost of loading large models on workers."
   ]
  },
  {
   "cell_type": "markdown",
   "metadata": {},
   "source": [
    " In Spark 3.0, Pandas UDFs can accept an iterator of pandas.Series or pandas.DataFrame so that you can load the model only once instead of loading it for every series in the iterator. <br/>\n",
    " When the number of images rising over the default 10,000 arrow.maxRecordsPerBatch we expect significant speed ups over a pandas scalar UDF because it iterates through batches of pd.Series."
   ]
  },
  {
   "cell_type": "code",
   "execution_count": 34,
   "metadata": {},
   "outputs": [],
   "source": [
    "# function to get tensors from batch path\n",
    "def gettensorfrompath(image_path):\n",
    "    path = image_path.replace(\"file://\", \"\")\n",
    "    img = load_img(path)\n",
    "    x = img_to_array(img)\n",
    "    x = preprocess_input(x)\n",
    "    return x"
   ]
  },
  {
   "cell_type": "code",
   "execution_count": 35,
   "metadata": {},
   "outputs": [],
   "source": [
    "# target pandas user defined function to make operation on dataframe with pyspark.sql\n",
    "@pandas_udf('array<double>')\n",
    "def featurize(images_data_iter: Iterator[pd.DataFrame]) -> Iterator[pd.DataFrame]:\n",
    "    # load model outside of for loop\n",
    "    conv_base = conv_base_init()\n",
    "    for image_data_series in images_data_iter:\n",
    "        image_path_series = image_data_series['origin']\n",
    "        # Apply functions to entire series at once\n",
    "        x = image_path_series.map(gettensorfrompath)\n",
    "        x = np.stack(list(x.values))\n",
    "        # option is to enable batch_size\n",
    "        features = conv_base.predict(x)\n",
    "        features_flat = [p.flatten() for p in features]\n",
    "        yield pd.Series(features_flat)"
   ]
  },
  {
   "cell_type": "code",
   "execution_count": 36,
   "metadata": {},
   "outputs": [
    {
     "name": "stdout",
     "output_type": "stream",
     "text": [
      "root\n",
      " |-- image: struct (nullable = true)\n",
      " |    |-- origin: string (nullable = true)\n",
      " |    |-- height: integer (nullable = true)\n",
      " |    |-- width: integer (nullable = true)\n",
      " |    |-- nChannels: integer (nullable = true)\n",
      " |    |-- mode: integer (nullable = true)\n",
      " |    |-- data: binary (nullable = true)\n",
      " |-- label: string (nullable = true)\n",
      "\n"
     ]
    }
   ],
   "source": [
    "df_img.printSchema()"
   ]
  },
  {
   "cell_type": "code",
   "execution_count": 37,
   "metadata": {},
   "outputs": [],
   "source": [
    "# apply featurization\n",
    "featurized_df = df_img.withColumn('cnn_features', featurize('image')).cache()"
   ]
  },
  {
   "cell_type": "code",
   "execution_count": 38,
   "metadata": {},
   "outputs": [
    {
     "name": "stdout",
     "output_type": "stream",
     "text": [
      "+--------------------+--------------+--------------------+\n",
      "|               image|         label|        cnn_features|\n",
      "+--------------------+--------------+--------------------+\n",
      "|[file:///mnt/c/us...|Apple_Golden_1|[0.85351133346557...|\n",
      "|[file:///mnt/c/us...|Apple_Golden_1|[0.80916601419448...|\n",
      "|[file:///mnt/c/us...|Apple_Golden_1|[0.79260116815567...|\n",
      "|[file:///mnt/c/us...|Apple_Golden_1|[0.80246633291244...|\n",
      "|[file:///mnt/c/us...|Apple_Golden_1|[0.82079499959945...|\n",
      "|[file:///mnt/c/us...|Apple_Golden_1|[0.86574697494506...|\n",
      "|[file:///mnt/c/us...|Apple_Golden_1|[0.83335995674133...|\n",
      "|[file:///mnt/c/us...|Apple_Golden_1|[0.80765640735626...|\n",
      "|[file:///mnt/c/us...|Apple_Golden_1|[0.85223478078842...|\n",
      "|[file:///mnt/c/us...|Apple_Golden_1|[0.81048470735549...|\n",
      "|[file:///mnt/c/us...|Apple_Golden_1|[0.85044395923614...|\n",
      "|[file:///mnt/c/us...|Apple_Golden_1|[0.84137392044067...|\n",
      "|[file:///mnt/c/us...|Apple_Golden_1|[0.85456311702728...|\n",
      "|[file:///mnt/c/us...|Apple_Golden_1|[0.84026128053665...|\n",
      "|[file:///mnt/c/us...|Apple_Golden_1|[0.83392453193664...|\n",
      "|[file:///mnt/c/us...|Apple_Golden_1|[0.83447968959808...|\n",
      "|[file:///mnt/c/us...|Apple_Golden_1|[0.80709928274154...|\n",
      "|[file:///mnt/c/us...|Apple_Golden_1|[0.83267533779144...|\n",
      "|[file:///mnt/c/us...|Apple_Golden_1|[0.79834204912185...|\n",
      "|[file:///mnt/c/us...|Apple_Golden_1|[0.85473746061325...|\n",
      "+--------------------+--------------+--------------------+\n",
      "only showing top 20 rows\n",
      "\n",
      "data load with spark.read, elapsed time: 9.63s\n"
     ]
    }
   ],
   "source": [
    "start = time.perf_counter()\n",
    "featurized_df.show()\n",
    "stop = time.perf_counter()\n",
    "print(f'data load with spark.read, elapsed time: {stop - start:0.2f}s')"
   ]
  },
  {
   "cell_type": "code",
   "execution_count": 39,
   "metadata": {
    "scrolled": true
   },
   "outputs": [
    {
     "name": "stdout",
     "output_type": "stream",
     "text": [
      "root\n",
      " |-- image: struct (nullable = true)\n",
      " |    |-- origin: string (nullable = true)\n",
      " |    |-- height: integer (nullable = true)\n",
      " |    |-- width: integer (nullable = true)\n",
      " |    |-- nChannels: integer (nullable = true)\n",
      " |    |-- mode: integer (nullable = true)\n",
      " |    |-- data: binary (nullable = true)\n",
      " |-- label: string (nullable = true)\n",
      " |-- cnn_features: array (nullable = true)\n",
      " |    |-- element: double (containsNull = true)\n",
      "\n"
     ]
    }
   ],
   "source": [
    "featurized_df.printSchema()"
   ]
  },
  {
   "cell_type": "code",
   "execution_count": 40,
   "metadata": {},
   "outputs": [
    {
     "name": "stdout",
     "output_type": "stream",
     "text": [
      "67\n"
     ]
    }
   ],
   "source": [
    "# get the number of paritions\n",
    "print(featurized_df.rdd.getNumPartitions())"
   ]
  },
  {
   "cell_type": "markdown",
   "metadata": {},
   "source": [
    "# Reducer"
   ]
  },
  {
   "cell_type": "markdown",
   "metadata": {},
   "source": [
    "#### Transform from Arrays into Vectors to perform reduction"
   ]
  },
  {
   "cell_type": "code",
   "execution_count": 41,
   "metadata": {},
   "outputs": [],
   "source": [
    "# from Array to Vectors for PCA\n",
    "array_to_vector_udf = udf(lambda l: Vectors.dense(l), VectorUDT())"
   ]
  },
  {
   "cell_type": "code",
   "execution_count": 42,
   "metadata": {},
   "outputs": [],
   "source": [
    "vectorized_df = featurized_df.withColumn('cnn_vectors', array_to_vector_udf('cnn_features'))"
   ]
  },
  {
   "cell_type": "code",
   "execution_count": 43,
   "metadata": {},
   "outputs": [
    {
     "name": "stdout",
     "output_type": "stream",
     "text": [
      "+--------------------+--------------+--------------------+--------------------+\n",
      "|               image|         label|        cnn_features|         cnn_vectors|\n",
      "+--------------------+--------------+--------------------+--------------------+\n",
      "|[file:///mnt/c/us...|Apple_Golden_1|[0.85351133346557...|[0.85351133346557...|\n",
      "|[file:///mnt/c/us...|Apple_Golden_1|[0.80916601419448...|[0.80916601419448...|\n",
      "|[file:///mnt/c/us...|Apple_Golden_1|[0.79260116815567...|[0.79260116815567...|\n",
      "|[file:///mnt/c/us...|Apple_Golden_1|[0.80246633291244...|[0.80246633291244...|\n",
      "|[file:///mnt/c/us...|Apple_Golden_1|[0.82079499959945...|[0.82079499959945...|\n",
      "+--------------------+--------------+--------------------+--------------------+\n",
      "only showing top 5 rows\n",
      "\n"
     ]
    }
   ],
   "source": [
    "vectorized_df.show(5, True)"
   ]
  },
  {
   "cell_type": "markdown",
   "metadata": {},
   "source": [
    "#### Initialize & Apply PCA\n",
    "Results may vary with larger dataset, creates an heavy task Action that would affect overall performance."
   ]
  },
  {
   "cell_type": "code",
   "execution_count": 44,
   "metadata": {},
   "outputs": [
    {
     "name": "stdout",
     "output_type": "stream",
     "text": [
      "pca - fit best k nb, elapsed time: 204.38s\n"
     ]
    }
   ],
   "source": [
    "# reduce with PCA - set k Max to determine the adequate nb of principal components\n",
    "start = time.perf_counter()\n",
    "pca = PCA(k=20, inputCol='cnn_vectors', outputCol='pca_vectors')\n",
    "model = pca.fit(vectorized_df)\n",
    "stop = time.perf_counter()\n",
    "print(f'pca - fit best k nb, elapsed time: {stop - start:0.2f}s')"
   ]
  },
  {
   "cell_type": "code",
   "execution_count": 45,
   "metadata": {},
   "outputs": [
    {
     "name": "stdout",
     "output_type": "stream",
     "text": [
      "pca - application, elapsed time: 0.18s\n"
     ]
    }
   ],
   "source": [
    "# apply pca reduction\n",
    "start = time.perf_counter()\n",
    "reduced_df = model.transform(vectorized_df)\n",
    "stop = time.perf_counter()\n",
    "print(f'pca - application, elapsed time: {stop - start:0.2f}s')"
   ]
  },
  {
   "cell_type": "code",
   "execution_count": 46,
   "metadata": {},
   "outputs": [
    {
     "name": "stdout",
     "output_type": "stream",
     "text": [
      "+--------------------+--------------+--------------------+--------------------+--------------------+\n",
      "|               image|         label|        cnn_features|         cnn_vectors|         pca_vectors|\n",
      "+--------------------+--------------+--------------------+--------------------+--------------------+\n",
      "|[file:///mnt/c/us...|Apple_Golden_1|[0.85351133346557...|[0.85351133346557...|[-8.6527770457676...|\n",
      "|[file:///mnt/c/us...|Apple_Golden_1|[0.80916601419448...|[0.80916601419448...|[-8.6572522956191...|\n",
      "|[file:///mnt/c/us...|Apple_Golden_1|[0.79260116815567...|[0.79260116815567...|[-8.6280109691146...|\n",
      "|[file:///mnt/c/us...|Apple_Golden_1|[0.80246633291244...|[0.80246633291244...|[-8.6823958353398...|\n",
      "|[file:///mnt/c/us...|Apple_Golden_1|[0.82079499959945...|[0.82079499959945...|[-8.6747606035232...|\n",
      "+--------------------+--------------+--------------------+--------------------+--------------------+\n",
      "only showing top 5 rows\n",
      "\n"
     ]
    }
   ],
   "source": [
    "reduced_df.show(5, True)"
   ]
  },
  {
   "cell_type": "markdown",
   "metadata": {},
   "source": [
    "#### Inverse transform: from Vectors to Array - i.e. Pandas readability"
   ]
  },
  {
   "cell_type": "code",
   "execution_count": 47,
   "metadata": {},
   "outputs": [],
   "source": [
    "# from Array to Vectors for PCA\n",
    "vector_to_array_udf = udf(lambda v: v.toArray().tolist(), ArrayType(FloatType()))"
   ]
  },
  {
   "cell_type": "code",
   "execution_count": 48,
   "metadata": {},
   "outputs": [],
   "source": [
    "final_df = reduced_df.withColumn('features', vector_to_array_udf('pca_vectors'))"
   ]
  },
  {
   "cell_type": "code",
   "execution_count": 49,
   "metadata": {
    "scrolled": true
   },
   "outputs": [
    {
     "name": "stdout",
     "output_type": "stream",
     "text": [
      "+--------------------+--------------+--------------------+--------------------+--------------------+--------------------+\n",
      "|               image|         label|        cnn_features|         cnn_vectors|         pca_vectors|            features|\n",
      "+--------------------+--------------+--------------------+--------------------+--------------------+--------------------+\n",
      "|[file:///mnt/c/us...|Apple_Golden_1|[0.85351133346557...|[0.85351133346557...|[-8.6527770457676...|[-8.652777, -0.81...|\n",
      "|[file:///mnt/c/us...|Apple_Golden_1|[0.80916601419448...|[0.80916601419448...|[-8.6572522956191...|[-8.657252, -0.73...|\n",
      "|[file:///mnt/c/us...|Apple_Golden_1|[0.79260116815567...|[0.79260116815567...|[-8.6280109691146...|[-8.628011, -0.73...|\n",
      "|[file:///mnt/c/us...|Apple_Golden_1|[0.80246633291244...|[0.80246633291244...|[-8.6823958353398...|[-8.682396, -0.71...|\n",
      "|[file:///mnt/c/us...|Apple_Golden_1|[0.82079499959945...|[0.82079499959945...|[-8.6747606035232...|[-8.674761, -0.74...|\n",
      "+--------------------+--------------+--------------------+--------------------+--------------------+--------------------+\n",
      "only showing top 5 rows\n",
      "\n"
     ]
    }
   ],
   "source": [
    "final_df.show(5, True)"
   ]
  },
  {
   "cell_type": "markdown",
   "metadata": {},
   "source": [
    "# Results storage"
   ]
  },
  {
   "cell_type": "markdown",
   "metadata": {},
   "source": [
    "#### Write action, could be the only action that trigger the entire featurizer - reducer process"
   ]
  },
  {
   "cell_type": "code",
   "execution_count": 50,
   "metadata": {},
   "outputs": [
    {
     "name": "stdout",
     "output_type": "stream",
     "text": [
      "write local, elapsed time: 17.33s\n"
     ]
    }
   ],
   "source": [
    "# write local results on parquet file\n",
    "start = time.perf_counter()\n",
    "final_df.write.mode('overwrite').parquet('/mnt/c/users/etien/datascience/p8/outputs/featurized_sample')\n",
    "stop = time.perf_counter()\n",
    "print(f'write local, elapsed time: {stop - start:0.2f}s')"
   ]
  },
  {
   "cell_type": "code",
   "execution_count": 51,
   "metadata": {},
   "outputs": [
    {
     "name": "stdout",
     "output_type": "stream",
     "text": [
      "read local, elapsed time: 0.96s\n"
     ]
    }
   ],
   "source": [
    "# read local results from parquet file\n",
    "start = time.perf_counter()\n",
    "pd_final_df = pd.read_parquet('/mnt/c/users/etien/datascience/p8/outputs/featurized_sample', engine='pyarrow')\n",
    "stop = time.perf_counter()\n",
    "print(f'read local, elapsed time: {stop - start:0.2f}s')"
   ]
  },
  {
   "cell_type": "code",
   "execution_count": 52,
   "metadata": {},
   "outputs": [
    {
     "name": "stdout",
     "output_type": "stream",
     "text": [
      "<class 'pandas.core.frame.DataFrame'>\n",
      "RangeIndex: 2134 entries, 0 to 2133\n",
      "Columns: 6 entries, image to features\n",
      "dtypes: object(6)\n",
      "memory usage: 2.2 MB\n"
     ]
    }
   ],
   "source": [
    "# size of the results df\n",
    "pd_final_df.info(verbose=False, memory_usage=\"deep\")"
   ]
  },
  {
   "cell_type": "code",
   "execution_count": 53,
   "metadata": {},
   "outputs": [
    {
     "data": {
      "text/html": [
       "<div>\n",
       "<style scoped>\n",
       "    .dataframe tbody tr th:only-of-type {\n",
       "        vertical-align: middle;\n",
       "    }\n",
       "\n",
       "    .dataframe tbody tr th {\n",
       "        vertical-align: top;\n",
       "    }\n",
       "\n",
       "    .dataframe thead th {\n",
       "        text-align: right;\n",
       "    }\n",
       "</style>\n",
       "<table border=\"1\" class=\"dataframe\">\n",
       "  <thead>\n",
       "    <tr style=\"text-align: right;\">\n",
       "      <th></th>\n",
       "      <th>image</th>\n",
       "      <th>label</th>\n",
       "      <th>cnn_features</th>\n",
       "      <th>cnn_vectors</th>\n",
       "      <th>pca_vectors</th>\n",
       "      <th>features</th>\n",
       "    </tr>\n",
       "  </thead>\n",
       "  <tbody>\n",
       "    <tr>\n",
       "      <th>0</th>\n",
       "      <td>{'origin': 'file:///mnt/c/users/etien/datascie...</td>\n",
       "      <td>Apple_Golden_1</td>\n",
       "      <td>[0.8535113334655762, 0.4193253815174103, 0.583...</td>\n",
       "      <td>{'type': 1, 'size': None, 'indices': None, 'va...</td>\n",
       "      <td>{'type': 1, 'size': None, 'indices': None, 'va...</td>\n",
       "      <td>[-8.652777, -0.8131045, 0.80869323, 0.0569087,...</td>\n",
       "    </tr>\n",
       "    <tr>\n",
       "      <th>1</th>\n",
       "      <td>{'origin': 'file:///mnt/c/users/etien/datascie...</td>\n",
       "      <td>Apple_Golden_1</td>\n",
       "      <td>[0.8091660141944885, 0.37793269753456116, 0.54...</td>\n",
       "      <td>{'type': 1, 'size': None, 'indices': None, 'va...</td>\n",
       "      <td>{'type': 1, 'size': None, 'indices': None, 'va...</td>\n",
       "      <td>[-8.657252, -0.7366663, 0.7070661, 0.05717787,...</td>\n",
       "    </tr>\n",
       "    <tr>\n",
       "      <th>2</th>\n",
       "      <td>{'origin': 'file:///mnt/c/users/etien/datascie...</td>\n",
       "      <td>Apple_Golden_1</td>\n",
       "      <td>[0.7926011681556702, 0.3818221986293793, 0.539...</td>\n",
       "      <td>{'type': 1, 'size': None, 'indices': None, 'va...</td>\n",
       "      <td>{'type': 1, 'size': None, 'indices': None, 'va...</td>\n",
       "      <td>[-8.628011, -0.738455, 0.6893595, 0.059789967,...</td>\n",
       "    </tr>\n",
       "    <tr>\n",
       "      <th>3</th>\n",
       "      <td>{'origin': 'file:///mnt/c/users/etien/datascie...</td>\n",
       "      <td>Apple_Golden_1</td>\n",
       "      <td>[0.8024663329124451, 0.4175134599208832, 0.570...</td>\n",
       "      <td>{'type': 1, 'size': None, 'indices': None, 'va...</td>\n",
       "      <td>{'type': 1, 'size': None, 'indices': None, 'va...</td>\n",
       "      <td>[-8.682396, -0.7148256, 0.60340786, 0.08089253...</td>\n",
       "    </tr>\n",
       "    <tr>\n",
       "      <th>4</th>\n",
       "      <td>{'origin': 'file:///mnt/c/users/etien/datascie...</td>\n",
       "      <td>Apple_Golden_1</td>\n",
       "      <td>[0.8207949995994568, 0.380039781332016, 0.5280...</td>\n",
       "      <td>{'type': 1, 'size': None, 'indices': None, 'va...</td>\n",
       "      <td>{'type': 1, 'size': None, 'indices': None, 'va...</td>\n",
       "      <td>[-8.674761, -0.74254453, 0.6570486, 0.07146479...</td>\n",
       "    </tr>\n",
       "  </tbody>\n",
       "</table>\n",
       "</div>"
      ],
      "text/plain": [
       "                                               image           label  \\\n",
       "0  {'origin': 'file:///mnt/c/users/etien/datascie...  Apple_Golden_1   \n",
       "1  {'origin': 'file:///mnt/c/users/etien/datascie...  Apple_Golden_1   \n",
       "2  {'origin': 'file:///mnt/c/users/etien/datascie...  Apple_Golden_1   \n",
       "3  {'origin': 'file:///mnt/c/users/etien/datascie...  Apple_Golden_1   \n",
       "4  {'origin': 'file:///mnt/c/users/etien/datascie...  Apple_Golden_1   \n",
       "\n",
       "                                        cnn_features  \\\n",
       "0  [0.8535113334655762, 0.4193253815174103, 0.583...   \n",
       "1  [0.8091660141944885, 0.37793269753456116, 0.54...   \n",
       "2  [0.7926011681556702, 0.3818221986293793, 0.539...   \n",
       "3  [0.8024663329124451, 0.4175134599208832, 0.570...   \n",
       "4  [0.8207949995994568, 0.380039781332016, 0.5280...   \n",
       "\n",
       "                                         cnn_vectors  \\\n",
       "0  {'type': 1, 'size': None, 'indices': None, 'va...   \n",
       "1  {'type': 1, 'size': None, 'indices': None, 'va...   \n",
       "2  {'type': 1, 'size': None, 'indices': None, 'va...   \n",
       "3  {'type': 1, 'size': None, 'indices': None, 'va...   \n",
       "4  {'type': 1, 'size': None, 'indices': None, 'va...   \n",
       "\n",
       "                                         pca_vectors  \\\n",
       "0  {'type': 1, 'size': None, 'indices': None, 'va...   \n",
       "1  {'type': 1, 'size': None, 'indices': None, 'va...   \n",
       "2  {'type': 1, 'size': None, 'indices': None, 'va...   \n",
       "3  {'type': 1, 'size': None, 'indices': None, 'va...   \n",
       "4  {'type': 1, 'size': None, 'indices': None, 'va...   \n",
       "\n",
       "                                            features  \n",
       "0  [-8.652777, -0.8131045, 0.80869323, 0.0569087,...  \n",
       "1  [-8.657252, -0.7366663, 0.7070661, 0.05717787,...  \n",
       "2  [-8.628011, -0.738455, 0.6893595, 0.059789967,...  \n",
       "3  [-8.682396, -0.7148256, 0.60340786, 0.08089253...  \n",
       "4  [-8.674761, -0.74254453, 0.6570486, 0.07146479...  "
      ]
     },
     "execution_count": 53,
     "metadata": {},
     "output_type": "execute_result"
    }
   ],
   "source": [
    "# overview\n",
    "pd_final_df.head(5)"
   ]
  },
  {
   "cell_type": "code",
   "execution_count": null,
   "metadata": {},
   "outputs": [],
   "source": [
    "spark.stop()"
   ]
  }
 ],
 "metadata": {
  "kernelspec": {
   "display_name": "Python 3",
   "language": "python",
   "name": "python3"
  },
  "language_info": {
   "codemirror_mode": {
    "name": "ipython",
    "version": 3
   },
   "file_extension": ".py",
   "mimetype": "text/x-python",
   "name": "python",
   "nbconvert_exporter": "python",
   "pygments_lexer": "ipython3",
   "version": "3.7.4"
  },
  "toc": {
   "base_numbering": 1,
   "nav_menu": {},
   "number_sections": false,
   "sideBar": true,
   "skip_h1_title": false,
   "title_cell": "Table of Contents",
   "title_sidebar": "Contents",
   "toc_cell": true,
   "toc_position": {},
   "toc_section_display": true,
   "toc_window_display": true
  }
 },
 "nbformat": 4,
 "nbformat_minor": 4
}
