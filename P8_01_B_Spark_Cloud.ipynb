{
 "cells": [
  {
   "cell_type": "markdown",
   "metadata": {
    "toc": true
   },
   "source": [
    "<h1>Table of Contents<span class=\"tocSkip\"></span></h1>\n",
    "<div class=\"toc\"><ul class=\"toc-item\"><li><span><a href=\"#Introduction\" data-toc-modified-id=\"Introduction-1\">Introduction</a></span><ul class=\"toc-item\"><li><ul class=\"toc-item\"><li><ul class=\"toc-item\"><li><span><a href=\"#time-monitoring\" data-toc-modified-id=\"time-monitoring-1.0.0.1\">time monitoring</a></span></li></ul></li></ul></li></ul></li><li><span><a href=\"#Spark-session\" data-toc-modified-id=\"Spark-session-2\">Spark session</a></span></li><li><span><a href=\"#S3-as-data-source\" data-toc-modified-id=\"S3-as-data-source-3\">S3 as data source</a></span></li><li><span><a href=\"#Load-data-&amp;-Featurizer\" data-toc-modified-id=\"Load-data-&amp;-Featurizer-4\">Load data &amp; Featurizer</a></span><ul class=\"toc-item\"><li><ul class=\"toc-item\"><li><span><a href=\"#Use-of-a-CNN-as-feature-extractor\" data-toc-modified-id=\"Use-of-a-CNN-as-feature-extractor-4.0.1\">Use of a CNN as feature extractor</a></span></li></ul></li></ul></li><li><span><a href=\"#Reducer\" data-toc-modified-id=\"Reducer-5\">Reducer</a></span></li></ul></div>"
   ]
  },
  {
   "cell_type": "markdown",
   "metadata": {},
   "source": [
    "# Introduction"
   ]
  },
  {
   "cell_type": "markdown",
   "metadata": {},
   "source": [
    "This notebook has been derived from the P8_Spark_Local notebook, with a few adjustements due to the configuration of the Cloud environment itself, such as:\n",
    "- working with S3,\n",
    "- downgrade of a few packages leading to a slight different approach for initial DataFrame building.<br/>\n",
    "\n",
    "The core part, i.e. featurizer and reducer, still provide results we can compare with our local execution."
   ]
  },
  {
   "cell_type": "code",
   "execution_count": 1,
   "metadata": {},
   "outputs": [],
   "source": [
    "import pyspark"
   ]
  },
  {
   "cell_type": "code",
   "execution_count": 2,
   "metadata": {},
   "outputs": [],
   "source": [
    "from pyspark import SparkContext"
   ]
  },
  {
   "cell_type": "code",
   "execution_count": 3,
   "metadata": {},
   "outputs": [
    {
     "data": {
      "text/plain": [
       "'2.3.4'"
      ]
     },
     "execution_count": 3,
     "metadata": {},
     "output_type": "execute_result"
    }
   ],
   "source": [
    "pyspark.__version__"
   ]
  },
  {
   "cell_type": "code",
   "execution_count": 4,
   "metadata": {},
   "outputs": [],
   "source": [
    "# usefull packages\n",
    "import pandas as pd\n",
    "import numpy as np\n",
    "import time\n",
    "from PIL import Image\n",
    "from io import BytesIO\n",
    "from io import StringIO"
   ]
  },
  {
   "cell_type": "code",
   "execution_count": 5,
   "metadata": {},
   "outputs": [],
   "source": [
    "# context & session\n",
    "from pyspark.sql import SparkSession"
   ]
  },
  {
   "cell_type": "code",
   "execution_count": 6,
   "metadata": {},
   "outputs": [
    {
     "data": {
      "text/plain": [
       "'2.0.0'"
      ]
     },
     "execution_count": 6,
     "metadata": {},
     "output_type": "execute_result"
    }
   ],
   "source": [
    "import pyarrow\n",
    "pyarrow.__version__"
   ]
  },
  {
   "cell_type": "code",
   "execution_count": 7,
   "metadata": {},
   "outputs": [],
   "source": [
    "# data handling\n",
    "from pyspark.sql.functions import input_file_name, split\n",
    "from pyspark.sql.functions import pandas_udf\n",
    "from pyspark.sql.functions import udf\n",
    "from pyspark.sql.types import *\n",
    "# from typing import Iterator"
   ]
  },
  {
   "cell_type": "code",
   "execution_count": 8,
   "metadata": {},
   "outputs": [],
   "source": [
    "# ml tasks\n",
    "from pyspark.ml.image import ImageSchema\n",
    "from pyspark.ml.feature import PCA"
   ]
  },
  {
   "cell_type": "code",
   "execution_count": 9,
   "metadata": {},
   "outputs": [],
   "source": [
    "# transform\n",
    "from pyspark.ml.linalg import Vectors, VectorUDT"
   ]
  },
  {
   "cell_type": "code",
   "execution_count": 10,
   "metadata": {},
   "outputs": [],
   "source": [
    "# pip install tensorflow"
   ]
  },
  {
   "cell_type": "code",
   "execution_count": 11,
   "metadata": {},
   "outputs": [],
   "source": [
    "# core featurizer\n",
    "from tensorflow.keras.applications.vgg16 import VGG16, preprocess_input\n",
    "from tensorflow.keras.preprocessing.image import img_to_array, load_img"
   ]
  },
  {
   "cell_type": "markdown",
   "metadata": {},
   "source": [
    "#### time monitoring"
   ]
  },
  {
   "cell_type": "code",
   "execution_count": 12,
   "metadata": {},
   "outputs": [
    {
     "name": "stdout",
     "output_type": "stream",
     "text": [
      "process, elapsed time: 0.00s\n"
     ]
    }
   ],
   "source": [
    "start = time.perf_counter()\n",
    "stop = time.perf_counter()\n",
    "print(f'process, elapsed time: {stop - start:0.2f}s')"
   ]
  },
  {
   "cell_type": "markdown",
   "metadata": {},
   "source": [
    "# Spark session"
   ]
  },
  {
   "cell_type": "code",
   "execution_count": 13,
   "metadata": {},
   "outputs": [
    {
     "data": {
      "text/html": [
       "\n",
       "            <div>\n",
       "                <p><b>SparkSession - in-memory</b></p>\n",
       "                \n",
       "        <div>\n",
       "            <p><b>SparkContext</b></p>\n",
       "\n",
       "            <p><a href=\"http://ip-172-16-87-110.eu-west-1.compute.internal:4040\">Spark UI</a></p>\n",
       "\n",
       "            <dl>\n",
       "              <dt>Version</dt>\n",
       "                <dd><code>v2.3.4</code></dd>\n",
       "              <dt>Master</dt>\n",
       "                <dd><code>local[*]</code></dd>\n",
       "              <dt>AppName</dt>\n",
       "                <dd><code>pyspark-shell</code></dd>\n",
       "            </dl>\n",
       "        </div>\n",
       "        \n",
       "            </div>\n",
       "        "
      ],
      "text/plain": [
       "<pyspark.sql.session.SparkSession at 0x7f22b8b51518>"
      ]
     },
     "execution_count": 13,
     "metadata": {},
     "output_type": "execute_result"
    }
   ],
   "source": [
    "import sagemaker\n",
    "from sagemaker import get_execution_role\n",
    "import sagemaker_pyspark\n",
    "\n",
    "role = get_execution_role()\n",
    "\n",
    "# Configure Spark to use the SageMaker Spark dependency jars\n",
    "jars = sagemaker_pyspark.classpath_jars()\n",
    "\n",
    "classpath = \":\".join(sagemaker_pyspark.classpath_jars())\n",
    "\n",
    "# See the SageMaker Spark Github to learn how to connect to EMR from a notebook instance\n",
    "spark = SparkSession.builder.config(\"spark.driver.extraClassPath\", classpath)\\\n",
    "    .master(\"local[*]\").getOrCreate()\n",
    "spark"
   ]
  },
  {
   "cell_type": "code",
   "execution_count": 14,
   "metadata": {},
   "outputs": [],
   "source": [
    "# check wether arrow should be enabled by this setting\n",
    "spark.conf.set('spark.sql.execution.arrow.pyspark.enabled', 'true')"
   ]
  },
  {
   "cell_type": "markdown",
   "metadata": {},
   "source": [
    "# S3 as data source"
   ]
  },
  {
   "cell_type": "code",
   "execution_count": 15,
   "metadata": {},
   "outputs": [],
   "source": [
    "import boto3"
   ]
  },
  {
   "cell_type": "code",
   "execution_count": 16,
   "metadata": {},
   "outputs": [],
   "source": [
    "# Get resources stored in AWS S3 service\n",
    "s3 = boto3.resource('s3')"
   ]
  },
  {
   "cell_type": "code",
   "execution_count": 17,
   "metadata": {},
   "outputs": [
    {
     "name": "stdout",
     "output_type": "stream",
     "text": [
      "629250884158-sagemaker-eu-west-3\n",
      "aws-emr-resources-629250884158-eu-west-1\n",
      "aws-logs-629250884158-eu-west-1\n",
      "aws-logs-629250884158-eu-west-3\n",
      "ocproject-fruits\n"
     ]
    }
   ],
   "source": [
    "# Print all existing buckets names (only one in this case)\n",
    "for bucket in s3.buckets.all():\n",
    "    print(bucket.name)"
   ]
  },
  {
   "cell_type": "code",
   "execution_count": 18,
   "metadata": {
    "scrolled": false
   },
   "outputs": [
    {
     "name": "stdout",
     "output_type": "stream",
     "text": [
      "Apple_Braeburn AppleSample/Apple_Braeburn/321_100.jpg\n",
      "Apple_Braeburn AppleSample/Apple_Braeburn/322_100.jpg\n",
      "Apple_Braeburn AppleSample/Apple_Braeburn/323_100.jpg\n"
     ]
    }
   ],
   "source": [
    "# Print n first files present in the bucket 'ocproject-fruits'\n",
    "fruits_bucket = s3.Bucket('ocproject-fruits')\n",
    "for file in fruits_bucket.objects.limit(3):\n",
    "    label = file.key.split('/')[-2]\n",
    "    print(label, file.key)"
   ]
  },
  {
   "cell_type": "markdown",
   "metadata": {},
   "source": [
    "# Load data & Featurizer\n",
    "### Use of a CNN as feature extractor"
   ]
  },
  {
   "cell_type": "code",
   "execution_count": 19,
   "metadata": {},
   "outputs": [],
   "source": [
    "# model for featurization, last layers truncated.\n",
    "conv_base = VGG16(\n",
    "    include_top=False,\n",
    "    weights=None,\n",
    "    pooling='max',\n",
    "    input_shape=(100, 100, 3))"
   ]
  },
  {
   "cell_type": "code",
   "execution_count": 20,
   "metadata": {
    "scrolled": true
   },
   "outputs": [
    {
     "name": "stdout",
     "output_type": "stream",
     "text": [
      "Model: \"vgg16\"\n",
      "_________________________________________________________________\n",
      "Layer (type)                 Output Shape              Param #   \n",
      "=================================================================\n",
      "input_1 (InputLayer)         [(None, 100, 100, 3)]     0         \n",
      "_________________________________________________________________\n",
      "block1_conv1 (Conv2D)        (None, 100, 100, 64)      1792      \n",
      "_________________________________________________________________\n",
      "block1_conv2 (Conv2D)        (None, 100, 100, 64)      36928     \n",
      "_________________________________________________________________\n",
      "block1_pool (MaxPooling2D)   (None, 50, 50, 64)        0         \n",
      "_________________________________________________________________\n",
      "block2_conv1 (Conv2D)        (None, 50, 50, 128)       73856     \n",
      "_________________________________________________________________\n",
      "block2_conv2 (Conv2D)        (None, 50, 50, 128)       147584    \n",
      "_________________________________________________________________\n",
      "block2_pool (MaxPooling2D)   (None, 25, 25, 128)       0         \n",
      "_________________________________________________________________\n",
      "block3_conv1 (Conv2D)        (None, 25, 25, 256)       295168    \n",
      "_________________________________________________________________\n",
      "block3_conv2 (Conv2D)        (None, 25, 25, 256)       590080    \n",
      "_________________________________________________________________\n",
      "block3_conv3 (Conv2D)        (None, 25, 25, 256)       590080    \n",
      "_________________________________________________________________\n",
      "block3_pool (MaxPooling2D)   (None, 12, 12, 256)       0         \n",
      "_________________________________________________________________\n",
      "block4_conv1 (Conv2D)        (None, 12, 12, 512)       1180160   \n",
      "_________________________________________________________________\n",
      "block4_conv2 (Conv2D)        (None, 12, 12, 512)       2359808   \n",
      "_________________________________________________________________\n",
      "block4_conv3 (Conv2D)        (None, 12, 12, 512)       2359808   \n",
      "_________________________________________________________________\n",
      "block4_pool (MaxPooling2D)   (None, 6, 6, 512)         0         \n",
      "_________________________________________________________________\n",
      "block5_conv1 (Conv2D)        (None, 6, 6, 512)         2359808   \n",
      "_________________________________________________________________\n",
      "block5_conv2 (Conv2D)        (None, 6, 6, 512)         2359808   \n",
      "_________________________________________________________________\n",
      "block5_conv3 (Conv2D)        (None, 6, 6, 512)         2359808   \n",
      "_________________________________________________________________\n",
      "block5_pool (MaxPooling2D)   (None, 3, 3, 512)         0         \n",
      "_________________________________________________________________\n",
      "global_max_pooling2d (Global (None, 512)               0         \n",
      "=================================================================\n",
      "Total params: 14,714,688\n",
      "Trainable params: 14,714,688\n",
      "Non-trainable params: 0\n",
      "_________________________________________________________________\n"
     ]
    }
   ],
   "source": [
    "conv_base.summary()"
   ]
  },
  {
   "cell_type": "code",
   "execution_count": 21,
   "metadata": {},
   "outputs": [
    {
     "name": "stdout",
     "output_type": "stream",
     "text": [
      "process, elapsed time: 254.85s\n"
     ]
    }
   ],
   "source": [
    "# get the 2134 first cnn_features\n",
    "start = time.perf_counter()\n",
    "list_path_img = []\n",
    "for file in fruits_bucket.objects.limit(2134):\n",
    "    obj = fruits_bucket.Object(file.key)\n",
    "    label = file.key.split('/')[-2]\n",
    "    response = obj.get()\n",
    "    file_stream = response['Body']\n",
    "    img = Image.open(file_stream)\n",
    "    # convert image to flatten array\n",
    "    flat_array = np.array(img).ravel().tolist()\n",
    "    tensor = np.array(flat_array).reshape(1, 100, 100, 3).astype(np.uint8)\n",
    "    # preprocess input\n",
    "    prep_tensor = preprocess_input(tensor)\n",
    "    features = conv_base.predict(prep_tensor).ravel().tolist()\n",
    "    # Store file key and features\n",
    "    list_path_img.append((file.key, label, features))\n",
    "stop = time.perf_counter()\n",
    "print(f'process, elapsed time: {stop - start:0.2f}s')"
   ]
  },
  {
   "cell_type": "code",
   "execution_count": 22,
   "metadata": {},
   "outputs": [
    {
     "name": "stdout",
     "output_type": "stream",
     "text": [
      "+--------------------+--------------+--------------------+\n",
      "|              origin|         label|        cnn_features|\n",
      "+--------------------+--------------+--------------------+\n",
      "|AppleSample/Apple...|Apple_Braeburn|[0.09752133488655...|\n",
      "|AppleSample/Apple...|Apple_Braeburn|[0.09284240007400...|\n",
      "|AppleSample/Apple...|Apple_Braeburn|[0.08956278115510...|\n",
      "|AppleSample/Apple...|Apple_Braeburn|[0.09523339569568...|\n",
      "|AppleSample/Apple...|Apple_Braeburn|[0.08958204090595...|\n",
      "|AppleSample/Apple...|Apple_Braeburn|[0.09481547772884...|\n",
      "|AppleSample/Apple...|Apple_Braeburn|[0.09361021220684...|\n",
      "|AppleSample/Apple...|Apple_Braeburn|[0.09232464432716...|\n",
      "|AppleSample/Apple...|Apple_Braeburn|[0.08942290395498...|\n",
      "|AppleSample/Apple...|Apple_Braeburn|[0.08563047647476...|\n",
      "|AppleSample/Apple...|Apple_Braeburn|[0.08661102503538...|\n",
      "|AppleSample/Apple...|Apple_Braeburn|[0.08607620000839...|\n",
      "|AppleSample/Apple...|Apple_Braeburn|[0.08676768094301...|\n",
      "|AppleSample/Apple...|Apple_Braeburn|[0.08955263346433...|\n",
      "|AppleSample/Apple...|Apple_Braeburn|[0.09075067192316...|\n",
      "|AppleSample/Apple...|Apple_Braeburn|[0.09642507135868...|\n",
      "|AppleSample/Apple...|Apple_Braeburn|[0.08960703015327...|\n",
      "|AppleSample/Apple...|Apple_Braeburn|[0.09290227293968...|\n",
      "|AppleSample/Apple...|Apple_Braeburn|[0.09972979873418...|\n",
      "|AppleSample/Apple...|Apple_Braeburn|[0.10071925073862...|\n",
      "+--------------------+--------------+--------------------+\n",
      "only showing top 20 rows\n",
      "\n"
     ]
    }
   ],
   "source": [
    "# Create spark dataframe from previous list of tuples\n",
    "df_img = spark.createDataFrame(list_path_img, ['origin', 'label', 'cnn_features'])\n",
    "# Show spark dataframe\n",
    "df_img.show()"
   ]
  },
  {
   "cell_type": "code",
   "execution_count": 23,
   "metadata": {},
   "outputs": [
    {
     "name": "stdout",
     "output_type": "stream",
     "text": [
      "root\n",
      " |-- origin: string (nullable = true)\n",
      " |-- label: string (nullable = true)\n",
      " |-- cnn_features: array (nullable = true)\n",
      " |    |-- element: double (containsNull = true)\n",
      "\n"
     ]
    }
   ],
   "source": [
    "df_img.printSchema()"
   ]
  },
  {
   "cell_type": "markdown",
   "metadata": {},
   "source": [
    "# Reducer"
   ]
  },
  {
   "cell_type": "code",
   "execution_count": 24,
   "metadata": {},
   "outputs": [],
   "source": [
    "# from Array to Vectors for PCA\n",
    "array_to_vector_udf = udf(lambda l: Vectors.dense(l), VectorUDT())\n",
    "df_img = df_img.withColumn('cnn_vectors', array_to_vector_udf('cnn_features'))"
   ]
  },
  {
   "cell_type": "code",
   "execution_count": 25,
   "metadata": {},
   "outputs": [],
   "source": [
    "df_img = df_img.select('origin', 'label', 'cnn_vectors')"
   ]
  },
  {
   "cell_type": "code",
   "execution_count": 26,
   "metadata": {},
   "outputs": [
    {
     "name": "stdout",
     "output_type": "stream",
     "text": [
      "pca - 20 pcs, elapsed time: 4.24s\n"
     ]
    }
   ],
   "source": [
    "# reduce with PCA - k=20 arbitrary setting\n",
    "start = time.perf_counter()\n",
    "pca = PCA(k=20, inputCol='cnn_vectors', outputCol='pca_vectors')\n",
    "model = pca.fit(df_img)\n",
    "stop = time.perf_counter()\n",
    "print(f'pca - 20 pcs, elapsed time: {stop - start:0.2f}s')"
   ]
  },
  {
   "cell_type": "code",
   "execution_count": 27,
   "metadata": {},
   "outputs": [],
   "source": [
    "# apply pca reduction\n",
    "df_img = model.transform(df_img)"
   ]
  },
  {
   "cell_type": "code",
   "execution_count": 28,
   "metadata": {},
   "outputs": [],
   "source": [
    "# from Vector to Array\n",
    "vector_to_array_udf = udf(lambda v: v.toArray().tolist(), ArrayType(FloatType()))"
   ]
  },
  {
   "cell_type": "code",
   "execution_count": 29,
   "metadata": {},
   "outputs": [],
   "source": [
    "df_img = df_img.withColumn('arrays', vector_to_array_udf('pca_vectors'))"
   ]
  },
  {
   "cell_type": "code",
   "execution_count": 30,
   "metadata": {},
   "outputs": [],
   "source": [
    "df_img = df_img.select('origin', 'label', 'arrays')"
   ]
  },
  {
   "cell_type": "code",
   "execution_count": 31,
   "metadata": {
    "scrolled": true
   },
   "outputs": [
    {
     "name": "stdout",
     "output_type": "stream",
     "text": [
      "+--------------------+--------------+--------------------+\n",
      "|              origin|         label|              arrays|\n",
      "+--------------------+--------------+--------------------+\n",
      "|AppleSample/Apple...|Apple_Braeburn|[-4.95163, 1.7686...|\n",
      "|AppleSample/Apple...|Apple_Braeburn|[-4.9488864, 1.75...|\n",
      "|AppleSample/Apple...|Apple_Braeburn|[-4.952871, 1.757...|\n",
      "|AppleSample/Apple...|Apple_Braeburn|[-4.9557786, 1.75...|\n",
      "|AppleSample/Apple...|Apple_Braeburn|[-4.9466696, 1.74...|\n",
      "|AppleSample/Apple...|Apple_Braeburn|[-4.948851, 1.748...|\n",
      "|AppleSample/Apple...|Apple_Braeburn|[-4.9509406, 1.74...|\n",
      "|AppleSample/Apple...|Apple_Braeburn|[-5.0252056, 1.67...|\n",
      "|AppleSample/Apple...|Apple_Braeburn|[-5.036828, 1.660...|\n",
      "|AppleSample/Apple...|Apple_Braeburn|[-5.025839, 1.673...|\n",
      "|AppleSample/Apple...|Apple_Braeburn|[-5.0511184, 1.68...|\n",
      "|AppleSample/Apple...|Apple_Braeburn|[-5.0435066, 1.68...|\n",
      "|AppleSample/Apple...|Apple_Braeburn|[-5.062506, 1.681...|\n",
      "|AppleSample/Apple...|Apple_Braeburn|[-5.075663, 1.691...|\n",
      "|AppleSample/Apple...|Apple_Braeburn|[-5.069093, 1.678...|\n",
      "|AppleSample/Apple...|Apple_Braeburn|[-4.8521066, 1.74...|\n",
      "|AppleSample/Apple...|Apple_Braeburn|[-5.09056, 1.6801...|\n",
      "|AppleSample/Apple...|Apple_Braeburn|[-5.1006846, 1.68...|\n",
      "|AppleSample/Apple...|Apple_Braeburn|[-5.0645957, 1.68...|\n",
      "|AppleSample/Apple...|Apple_Braeburn|[-5.0188813, 1.65...|\n",
      "+--------------------+--------------+--------------------+\n",
      "only showing top 20 rows\n",
      "\n"
     ]
    }
   ],
   "source": [
    "df_img.show()"
   ]
  },
  {
   "cell_type": "code",
   "execution_count": 32,
   "metadata": {},
   "outputs": [
    {
     "data": {
      "text/html": [
       "<div>\n",
       "<style scoped>\n",
       "    .dataframe tbody tr th:only-of-type {\n",
       "        vertical-align: middle;\n",
       "    }\n",
       "\n",
       "    .dataframe tbody tr th {\n",
       "        vertical-align: top;\n",
       "    }\n",
       "\n",
       "    .dataframe thead th {\n",
       "        text-align: right;\n",
       "    }\n",
       "</style>\n",
       "<table border=\"1\" class=\"dataframe\">\n",
       "  <thead>\n",
       "    <tr style=\"text-align: right;\">\n",
       "      <th></th>\n",
       "      <th>origin</th>\n",
       "      <th>label</th>\n",
       "      <th>arrays</th>\n",
       "    </tr>\n",
       "  </thead>\n",
       "  <tbody>\n",
       "    <tr>\n",
       "      <th>0</th>\n",
       "      <td>AppleSample/Apple_Braeburn/321_100.jpg</td>\n",
       "      <td>Apple_Braeburn</td>\n",
       "      <td>[-4.951630115509033, 1.7686342000961304, 0.467...</td>\n",
       "    </tr>\n",
       "    <tr>\n",
       "      <th>1</th>\n",
       "      <td>AppleSample/Apple_Braeburn/322_100.jpg</td>\n",
       "      <td>Apple_Braeburn</td>\n",
       "      <td>[-4.948886394500732, 1.7506670951843262, 0.475...</td>\n",
       "    </tr>\n",
       "    <tr>\n",
       "      <th>2</th>\n",
       "      <td>AppleSample/Apple_Braeburn/323_100.jpg</td>\n",
       "      <td>Apple_Braeburn</td>\n",
       "      <td>[-4.952870845794678, 1.7571872472763062, 0.468...</td>\n",
       "    </tr>\n",
       "    <tr>\n",
       "      <th>3</th>\n",
       "      <td>AppleSample/Apple_Braeburn/324_100.jpg</td>\n",
       "      <td>Apple_Braeburn</td>\n",
       "      <td>[-4.9557785987854, 1.7540638446807861, 0.45533...</td>\n",
       "    </tr>\n",
       "    <tr>\n",
       "      <th>4</th>\n",
       "      <td>AppleSample/Apple_Braeburn/325_100.jpg</td>\n",
       "      <td>Apple_Braeburn</td>\n",
       "      <td>[-4.946669578552246, 1.7488222122192383, 0.463...</td>\n",
       "    </tr>\n",
       "    <tr>\n",
       "      <th>...</th>\n",
       "      <td>...</td>\n",
       "      <td>...</td>\n",
       "      <td>...</td>\n",
       "    </tr>\n",
       "    <tr>\n",
       "      <th>2129</th>\n",
       "      <td>AppleSample/Apple_Red_Yellow_2/r_90_100.jpg</td>\n",
       "      <td>Apple_Red_Yellow_2</td>\n",
       "      <td>[-5.470077991485596, 1.0921685695648193, 0.767...</td>\n",
       "    </tr>\n",
       "    <tr>\n",
       "      <th>2130</th>\n",
       "      <td>AppleSample/Apple_Red_Yellow_2/r_91_100.jpg</td>\n",
       "      <td>Apple_Red_Yellow_2</td>\n",
       "      <td>[-5.456509590148926, 1.1047818660736084, 0.752...</td>\n",
       "    </tr>\n",
       "    <tr>\n",
       "      <th>2131</th>\n",
       "      <td>AppleSample/Apple_Red_Yellow_2/r_92_100.jpg</td>\n",
       "      <td>Apple_Red_Yellow_2</td>\n",
       "      <td>[-5.457823276519775, 1.1007816791534424, 0.764...</td>\n",
       "    </tr>\n",
       "    <tr>\n",
       "      <th>2132</th>\n",
       "      <td>AppleSample/Apple_Red_Yellow_2/r_93_100.jpg</td>\n",
       "      <td>Apple_Red_Yellow_2</td>\n",
       "      <td>[-5.4950642585754395, 1.0985331535339355, 0.79...</td>\n",
       "    </tr>\n",
       "    <tr>\n",
       "      <th>2133</th>\n",
       "      <td>AppleSample/Apple_Red_Yellow_2/r_99_100.jpg</td>\n",
       "      <td>Apple_Red_Yellow_2</td>\n",
       "      <td>[-5.528878211975098, 1.1375360488891602, 0.808...</td>\n",
       "    </tr>\n",
       "  </tbody>\n",
       "</table>\n",
       "<p>2134 rows × 3 columns</p>\n",
       "</div>"
      ],
      "text/plain": [
       "                                           origin               label  \\\n",
       "0          AppleSample/Apple_Braeburn/321_100.jpg      Apple_Braeburn   \n",
       "1          AppleSample/Apple_Braeburn/322_100.jpg      Apple_Braeburn   \n",
       "2          AppleSample/Apple_Braeburn/323_100.jpg      Apple_Braeburn   \n",
       "3          AppleSample/Apple_Braeburn/324_100.jpg      Apple_Braeburn   \n",
       "4          AppleSample/Apple_Braeburn/325_100.jpg      Apple_Braeburn   \n",
       "...                                           ...                 ...   \n",
       "2129  AppleSample/Apple_Red_Yellow_2/r_90_100.jpg  Apple_Red_Yellow_2   \n",
       "2130  AppleSample/Apple_Red_Yellow_2/r_91_100.jpg  Apple_Red_Yellow_2   \n",
       "2131  AppleSample/Apple_Red_Yellow_2/r_92_100.jpg  Apple_Red_Yellow_2   \n",
       "2132  AppleSample/Apple_Red_Yellow_2/r_93_100.jpg  Apple_Red_Yellow_2   \n",
       "2133  AppleSample/Apple_Red_Yellow_2/r_99_100.jpg  Apple_Red_Yellow_2   \n",
       "\n",
       "                                                 arrays  \n",
       "0     [-4.951630115509033, 1.7686342000961304, 0.467...  \n",
       "1     [-4.948886394500732, 1.7506670951843262, 0.475...  \n",
       "2     [-4.952870845794678, 1.7571872472763062, 0.468...  \n",
       "3     [-4.9557785987854, 1.7540638446807861, 0.45533...  \n",
       "4     [-4.946669578552246, 1.7488222122192383, 0.463...  \n",
       "...                                                 ...  \n",
       "2129  [-5.470077991485596, 1.0921685695648193, 0.767...  \n",
       "2130  [-5.456509590148926, 1.1047818660736084, 0.752...  \n",
       "2131  [-5.457823276519775, 1.1007816791534424, 0.764...  \n",
       "2132  [-5.4950642585754395, 1.0985331535339355, 0.79...  \n",
       "2133  [-5.528878211975098, 1.1375360488891602, 0.808...  \n",
       "\n",
       "[2134 rows x 3 columns]"
      ]
     },
     "execution_count": 32,
     "metadata": {},
     "output_type": "execute_result"
    }
   ],
   "source": [
    "# Turn spark dataframe into pandas dataframe\n",
    "results_df = df_img.toPandas()\n",
    "results_df"
   ]
  },
  {
   "cell_type": "code",
   "execution_count": 33,
   "metadata": {},
   "outputs": [],
   "source": [
    "# store the results into S3 Bucket, using boto3\n",
    "# buffer\n",
    "csv_buffer = StringIO()\n",
    "results_df.to_csv(csv_buffer)\n",
    "# boto client\n",
    "client = boto3.client('s3')\n",
    "# put the object\n",
    "response = client.put_object(\n",
    "    Body=csv_buffer.getvalue(),\n",
    "    Bucket='ocproject-fruits',\n",
    "    Key='results.csv')"
   ]
  },
  {
   "cell_type": "code",
   "execution_count": 34,
   "metadata": {},
   "outputs": [
    {
     "data": {
      "text/plain": [
       "{'ResponseMetadata': {'RequestId': '2TAK6XCN4J2K3VEG',\n",
       "  'HostId': 'QWnRxhcm5kQhGYQ9atukdw1kEQeVgk1Zr5C6wPI30fHosCbYuLm7DjpqohEv371gz/6Q+ZL2f/w=',\n",
       "  'HTTPStatusCode': 200,\n",
       "  'HTTPHeaders': {'x-amz-id-2': 'QWnRxhcm5kQhGYQ9atukdw1kEQeVgk1Zr5C6wPI30fHosCbYuLm7DjpqohEv371gz/6Q+ZL2f/w=',\n",
       "   'x-amz-request-id': '2TAK6XCN4J2K3VEG',\n",
       "   'date': 'Tue, 02 Feb 2021 21:15:26 GMT',\n",
       "   'etag': '\"3dd7029ab67d1ac8613bbfc805ac45fa\"',\n",
       "   'content-length': '0',\n",
       "   'server': 'AmazonS3'},\n",
       "  'RetryAttempts': 0},\n",
       " 'ETag': '\"3dd7029ab67d1ac8613bbfc805ac45fa\"'}"
      ]
     },
     "execution_count": 34,
     "metadata": {},
     "output_type": "execute_result"
    }
   ],
   "source": [
    "# overview of the upload\n",
    "response"
   ]
  },
  {
   "cell_type": "code",
   "execution_count": null,
   "metadata": {},
   "outputs": [],
   "source": [
    "spark.stop()"
   ]
  }
 ],
 "metadata": {
  "kernelspec": {
   "display_name": "Python 3",
   "language": "python",
   "name": "python3"
  },
  "language_info": {
   "codemirror_mode": {
    "name": "ipython",
    "version": 3
   },
   "file_extension": ".py",
   "mimetype": "text/x-python",
   "name": "python",
   "nbconvert_exporter": "python",
   "pygments_lexer": "ipython3",
   "version": "3.7.4"
  },
  "toc": {
   "base_numbering": 1,
   "nav_menu": {},
   "number_sections": false,
   "sideBar": true,
   "skip_h1_title": false,
   "title_cell": "Table of Contents",
   "title_sidebar": "Contents",
   "toc_cell": true,
   "toc_position": {},
   "toc_section_display": true,
   "toc_window_display": true
  }
 },
 "nbformat": 4,
 "nbformat_minor": 4
}
